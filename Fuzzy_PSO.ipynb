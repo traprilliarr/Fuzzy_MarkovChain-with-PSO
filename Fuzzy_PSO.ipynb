{
  "nbformat": 4,
  "nbformat_minor": 0,
  "metadata": {
    "colab": {
      "provenance": []
    },
    "kernelspec": {
      "name": "python3",
      "display_name": "Python 3"
    },
    "language_info": {
      "name": "python"
    }
  },
  "cells": [
    {
      "cell_type": "code",
      "execution_count": 66,
      "metadata": {
        "id": "0uAUF0BWPfbN",
        "colab": {
          "base_uri": "https://localhost:8080/"
        },
        "outputId": "e2c3b9fb-3dd6-4b16-c4cc-da0f57c27e14"
      },
      "outputs": [
        {
          "output_type": "stream",
          "name": "stdout",
          "text": [
            "Requirement already satisfied: xlrd in /usr/local/lib/python3.10/dist-packages (2.0.1)\n"
          ]
        }
      ],
      "source": [
        "!pip install xlrd"
      ]
    },
    {
      "cell_type": "code",
      "source": [
        "!pip install scikit-fuzzy pyswarm"
      ],
      "metadata": {
        "colab": {
          "base_uri": "https://localhost:8080/"
        },
        "id": "qPDwrJgeZU86",
        "outputId": "b9b306bf-0a2d-4b8d-9224-4691aa96ad5e"
      },
      "execution_count": 67,
      "outputs": [
        {
          "output_type": "stream",
          "name": "stdout",
          "text": [
            "Requirement already satisfied: scikit-fuzzy in /usr/local/lib/python3.10/dist-packages (0.4.2)\n",
            "Requirement already satisfied: pyswarm in /usr/local/lib/python3.10/dist-packages (0.6)\n",
            "Requirement already satisfied: numpy>=1.6.0 in /usr/local/lib/python3.10/dist-packages (from scikit-fuzzy) (1.25.2)\n",
            "Requirement already satisfied: scipy>=0.9.0 in /usr/local/lib/python3.10/dist-packages (from scikit-fuzzy) (1.11.4)\n",
            "Requirement already satisfied: networkx>=1.9.0 in /usr/local/lib/python3.10/dist-packages (from scikit-fuzzy) (3.3)\n"
          ]
        }
      ]
    },
    {
      "cell_type": "code",
      "source": [
        "import pandas as pd\n",
        "import numpy as np\n",
        "from datetime import datetime\n",
        "from sklearn.metrics import mean_squared_error\n",
        "from skfuzzy import control as ctrl\n",
        "from skfuzzy import cluster\n",
        "from pyswarm import pso\n",
        "import calendar"
      ],
      "metadata": {
        "id": "U-HCUJ-4YtOR"
      },
      "execution_count": 68,
      "outputs": []
    },
    {
      "cell_type": "code",
      "source": [
        "df= pd.read_excel(\"migass.xlsx\")\n",
        "df"
      ],
      "metadata": {
        "id": "QuyMEfZaPkTP",
        "colab": {
          "base_uri": "https://localhost:8080/",
          "height": 423
        },
        "outputId": "342fe435-bd51-4336-a2a1-95936eb01934"
      },
      "execution_count": 69,
      "outputs": [
        {
          "output_type": "execute_result",
          "data": {
            "text/plain": [
              "     No   Tahun     Bulan  Nilai Impor migas (Juta US$)\n",
              "0      1   1993   Januari                         132.2\n",
              "1      2   1993  Februari                         154.4\n",
              "2      3   1993     Maret                         112.1\n",
              "3      4   1993    April                          142.8\n",
              "4      5   1993       Mei                         153.8\n",
              "..   ...    ...       ...                           ...\n",
              "371  372   2023  Desember                        3372.4\n",
              "372  373   2024   Januari                        2698.3\n",
              "373  374   2024  Februari                        2979.6\n",
              "374  375   2024     Maret                        3326.5\n",
              "375  376   2024    April                         2960.3\n",
              "\n",
              "[376 rows x 4 columns]"
            ],
            "text/html": [
              "\n",
              "  <div id=\"df-d5d02edd-72ad-4dcb-8937-01b216d63bbf\" class=\"colab-df-container\">\n",
              "    <div>\n",
              "<style scoped>\n",
              "    .dataframe tbody tr th:only-of-type {\n",
              "        vertical-align: middle;\n",
              "    }\n",
              "\n",
              "    .dataframe tbody tr th {\n",
              "        vertical-align: top;\n",
              "    }\n",
              "\n",
              "    .dataframe thead th {\n",
              "        text-align: right;\n",
              "    }\n",
              "</style>\n",
              "<table border=\"1\" class=\"dataframe\">\n",
              "  <thead>\n",
              "    <tr style=\"text-align: right;\">\n",
              "      <th></th>\n",
              "      <th>No</th>\n",
              "      <th>Tahun</th>\n",
              "      <th>Bulan</th>\n",
              "      <th>Nilai Impor migas (Juta US$)</th>\n",
              "    </tr>\n",
              "  </thead>\n",
              "  <tbody>\n",
              "    <tr>\n",
              "      <th>0</th>\n",
              "      <td>1</td>\n",
              "      <td>1993</td>\n",
              "      <td>Januari</td>\n",
              "      <td>132.2</td>\n",
              "    </tr>\n",
              "    <tr>\n",
              "      <th>1</th>\n",
              "      <td>2</td>\n",
              "      <td>1993</td>\n",
              "      <td>Februari</td>\n",
              "      <td>154.4</td>\n",
              "    </tr>\n",
              "    <tr>\n",
              "      <th>2</th>\n",
              "      <td>3</td>\n",
              "      <td>1993</td>\n",
              "      <td>Maret</td>\n",
              "      <td>112.1</td>\n",
              "    </tr>\n",
              "    <tr>\n",
              "      <th>3</th>\n",
              "      <td>4</td>\n",
              "      <td>1993</td>\n",
              "      <td>April</td>\n",
              "      <td>142.8</td>\n",
              "    </tr>\n",
              "    <tr>\n",
              "      <th>4</th>\n",
              "      <td>5</td>\n",
              "      <td>1993</td>\n",
              "      <td>Mei</td>\n",
              "      <td>153.8</td>\n",
              "    </tr>\n",
              "    <tr>\n",
              "      <th>...</th>\n",
              "      <td>...</td>\n",
              "      <td>...</td>\n",
              "      <td>...</td>\n",
              "      <td>...</td>\n",
              "    </tr>\n",
              "    <tr>\n",
              "      <th>371</th>\n",
              "      <td>372</td>\n",
              "      <td>2023</td>\n",
              "      <td>Desember</td>\n",
              "      <td>3372.4</td>\n",
              "    </tr>\n",
              "    <tr>\n",
              "      <th>372</th>\n",
              "      <td>373</td>\n",
              "      <td>2024</td>\n",
              "      <td>Januari</td>\n",
              "      <td>2698.3</td>\n",
              "    </tr>\n",
              "    <tr>\n",
              "      <th>373</th>\n",
              "      <td>374</td>\n",
              "      <td>2024</td>\n",
              "      <td>Februari</td>\n",
              "      <td>2979.6</td>\n",
              "    </tr>\n",
              "    <tr>\n",
              "      <th>374</th>\n",
              "      <td>375</td>\n",
              "      <td>2024</td>\n",
              "      <td>Maret</td>\n",
              "      <td>3326.5</td>\n",
              "    </tr>\n",
              "    <tr>\n",
              "      <th>375</th>\n",
              "      <td>376</td>\n",
              "      <td>2024</td>\n",
              "      <td>April</td>\n",
              "      <td>2960.3</td>\n",
              "    </tr>\n",
              "  </tbody>\n",
              "</table>\n",
              "<p>376 rows × 4 columns</p>\n",
              "</div>\n",
              "    <div class=\"colab-df-buttons\">\n",
              "\n",
              "  <div class=\"colab-df-container\">\n",
              "    <button class=\"colab-df-convert\" onclick=\"convertToInteractive('df-d5d02edd-72ad-4dcb-8937-01b216d63bbf')\"\n",
              "            title=\"Convert this dataframe to an interactive table.\"\n",
              "            style=\"display:none;\">\n",
              "\n",
              "  <svg xmlns=\"http://www.w3.org/2000/svg\" height=\"24px\" viewBox=\"0 -960 960 960\">\n",
              "    <path d=\"M120-120v-720h720v720H120Zm60-500h600v-160H180v160Zm220 220h160v-160H400v160Zm0 220h160v-160H400v160ZM180-400h160v-160H180v160Zm440 0h160v-160H620v160ZM180-180h160v-160H180v160Zm440 0h160v-160H620v160Z\"/>\n",
              "  </svg>\n",
              "    </button>\n",
              "\n",
              "  <style>\n",
              "    .colab-df-container {\n",
              "      display:flex;\n",
              "      gap: 12px;\n",
              "    }\n",
              "\n",
              "    .colab-df-convert {\n",
              "      background-color: #E8F0FE;\n",
              "      border: none;\n",
              "      border-radius: 50%;\n",
              "      cursor: pointer;\n",
              "      display: none;\n",
              "      fill: #1967D2;\n",
              "      height: 32px;\n",
              "      padding: 0 0 0 0;\n",
              "      width: 32px;\n",
              "    }\n",
              "\n",
              "    .colab-df-convert:hover {\n",
              "      background-color: #E2EBFA;\n",
              "      box-shadow: 0px 1px 2px rgba(60, 64, 67, 0.3), 0px 1px 3px 1px rgba(60, 64, 67, 0.15);\n",
              "      fill: #174EA6;\n",
              "    }\n",
              "\n",
              "    .colab-df-buttons div {\n",
              "      margin-bottom: 4px;\n",
              "    }\n",
              "\n",
              "    [theme=dark] .colab-df-convert {\n",
              "      background-color: #3B4455;\n",
              "      fill: #D2E3FC;\n",
              "    }\n",
              "\n",
              "    [theme=dark] .colab-df-convert:hover {\n",
              "      background-color: #434B5C;\n",
              "      box-shadow: 0px 1px 3px 1px rgba(0, 0, 0, 0.15);\n",
              "      filter: drop-shadow(0px 1px 2px rgba(0, 0, 0, 0.3));\n",
              "      fill: #FFFFFF;\n",
              "    }\n",
              "  </style>\n",
              "\n",
              "    <script>\n",
              "      const buttonEl =\n",
              "        document.querySelector('#df-d5d02edd-72ad-4dcb-8937-01b216d63bbf button.colab-df-convert');\n",
              "      buttonEl.style.display =\n",
              "        google.colab.kernel.accessAllowed ? 'block' : 'none';\n",
              "\n",
              "      async function convertToInteractive(key) {\n",
              "        const element = document.querySelector('#df-d5d02edd-72ad-4dcb-8937-01b216d63bbf');\n",
              "        const dataTable =\n",
              "          await google.colab.kernel.invokeFunction('convertToInteractive',\n",
              "                                                    [key], {});\n",
              "        if (!dataTable) return;\n",
              "\n",
              "        const docLinkHtml = 'Like what you see? Visit the ' +\n",
              "          '<a target=\"_blank\" href=https://colab.research.google.com/notebooks/data_table.ipynb>data table notebook</a>'\n",
              "          + ' to learn more about interactive tables.';\n",
              "        element.innerHTML = '';\n",
              "        dataTable['output_type'] = 'display_data';\n",
              "        await google.colab.output.renderOutput(dataTable, element);\n",
              "        const docLink = document.createElement('div');\n",
              "        docLink.innerHTML = docLinkHtml;\n",
              "        element.appendChild(docLink);\n",
              "      }\n",
              "    </script>\n",
              "  </div>\n",
              "\n",
              "\n",
              "<div id=\"df-48d82220-4fda-4d18-8c02-1480a03b72ba\">\n",
              "  <button class=\"colab-df-quickchart\" onclick=\"quickchart('df-48d82220-4fda-4d18-8c02-1480a03b72ba')\"\n",
              "            title=\"Suggest charts\"\n",
              "            style=\"display:none;\">\n",
              "\n",
              "<svg xmlns=\"http://www.w3.org/2000/svg\" height=\"24px\"viewBox=\"0 0 24 24\"\n",
              "     width=\"24px\">\n",
              "    <g>\n",
              "        <path d=\"M19 3H5c-1.1 0-2 .9-2 2v14c0 1.1.9 2 2 2h14c1.1 0 2-.9 2-2V5c0-1.1-.9-2-2-2zM9 17H7v-7h2v7zm4 0h-2V7h2v10zm4 0h-2v-4h2v4z\"/>\n",
              "    </g>\n",
              "</svg>\n",
              "  </button>\n",
              "\n",
              "<style>\n",
              "  .colab-df-quickchart {\n",
              "      --bg-color: #E8F0FE;\n",
              "      --fill-color: #1967D2;\n",
              "      --hover-bg-color: #E2EBFA;\n",
              "      --hover-fill-color: #174EA6;\n",
              "      --disabled-fill-color: #AAA;\n",
              "      --disabled-bg-color: #DDD;\n",
              "  }\n",
              "\n",
              "  [theme=dark] .colab-df-quickchart {\n",
              "      --bg-color: #3B4455;\n",
              "      --fill-color: #D2E3FC;\n",
              "      --hover-bg-color: #434B5C;\n",
              "      --hover-fill-color: #FFFFFF;\n",
              "      --disabled-bg-color: #3B4455;\n",
              "      --disabled-fill-color: #666;\n",
              "  }\n",
              "\n",
              "  .colab-df-quickchart {\n",
              "    background-color: var(--bg-color);\n",
              "    border: none;\n",
              "    border-radius: 50%;\n",
              "    cursor: pointer;\n",
              "    display: none;\n",
              "    fill: var(--fill-color);\n",
              "    height: 32px;\n",
              "    padding: 0;\n",
              "    width: 32px;\n",
              "  }\n",
              "\n",
              "  .colab-df-quickchart:hover {\n",
              "    background-color: var(--hover-bg-color);\n",
              "    box-shadow: 0 1px 2px rgba(60, 64, 67, 0.3), 0 1px 3px 1px rgba(60, 64, 67, 0.15);\n",
              "    fill: var(--button-hover-fill-color);\n",
              "  }\n",
              "\n",
              "  .colab-df-quickchart-complete:disabled,\n",
              "  .colab-df-quickchart-complete:disabled:hover {\n",
              "    background-color: var(--disabled-bg-color);\n",
              "    fill: var(--disabled-fill-color);\n",
              "    box-shadow: none;\n",
              "  }\n",
              "\n",
              "  .colab-df-spinner {\n",
              "    border: 2px solid var(--fill-color);\n",
              "    border-color: transparent;\n",
              "    border-bottom-color: var(--fill-color);\n",
              "    animation:\n",
              "      spin 1s steps(1) infinite;\n",
              "  }\n",
              "\n",
              "  @keyframes spin {\n",
              "    0% {\n",
              "      border-color: transparent;\n",
              "      border-bottom-color: var(--fill-color);\n",
              "      border-left-color: var(--fill-color);\n",
              "    }\n",
              "    20% {\n",
              "      border-color: transparent;\n",
              "      border-left-color: var(--fill-color);\n",
              "      border-top-color: var(--fill-color);\n",
              "    }\n",
              "    30% {\n",
              "      border-color: transparent;\n",
              "      border-left-color: var(--fill-color);\n",
              "      border-top-color: var(--fill-color);\n",
              "      border-right-color: var(--fill-color);\n",
              "    }\n",
              "    40% {\n",
              "      border-color: transparent;\n",
              "      border-right-color: var(--fill-color);\n",
              "      border-top-color: var(--fill-color);\n",
              "    }\n",
              "    60% {\n",
              "      border-color: transparent;\n",
              "      border-right-color: var(--fill-color);\n",
              "    }\n",
              "    80% {\n",
              "      border-color: transparent;\n",
              "      border-right-color: var(--fill-color);\n",
              "      border-bottom-color: var(--fill-color);\n",
              "    }\n",
              "    90% {\n",
              "      border-color: transparent;\n",
              "      border-bottom-color: var(--fill-color);\n",
              "    }\n",
              "  }\n",
              "</style>\n",
              "\n",
              "  <script>\n",
              "    async function quickchart(key) {\n",
              "      const quickchartButtonEl =\n",
              "        document.querySelector('#' + key + ' button');\n",
              "      quickchartButtonEl.disabled = true;  // To prevent multiple clicks.\n",
              "      quickchartButtonEl.classList.add('colab-df-spinner');\n",
              "      try {\n",
              "        const charts = await google.colab.kernel.invokeFunction(\n",
              "            'suggestCharts', [key], {});\n",
              "      } catch (error) {\n",
              "        console.error('Error during call to suggestCharts:', error);\n",
              "      }\n",
              "      quickchartButtonEl.classList.remove('colab-df-spinner');\n",
              "      quickchartButtonEl.classList.add('colab-df-quickchart-complete');\n",
              "    }\n",
              "    (() => {\n",
              "      let quickchartButtonEl =\n",
              "        document.querySelector('#df-48d82220-4fda-4d18-8c02-1480a03b72ba button');\n",
              "      quickchartButtonEl.style.display =\n",
              "        google.colab.kernel.accessAllowed ? 'block' : 'none';\n",
              "    })();\n",
              "  </script>\n",
              "</div>\n",
              "\n",
              "  <div id=\"id_a1c0d757-cca1-4eef-bce6-39b16ae23130\">\n",
              "    <style>\n",
              "      .colab-df-generate {\n",
              "        background-color: #E8F0FE;\n",
              "        border: none;\n",
              "        border-radius: 50%;\n",
              "        cursor: pointer;\n",
              "        display: none;\n",
              "        fill: #1967D2;\n",
              "        height: 32px;\n",
              "        padding: 0 0 0 0;\n",
              "        width: 32px;\n",
              "      }\n",
              "\n",
              "      .colab-df-generate:hover {\n",
              "        background-color: #E2EBFA;\n",
              "        box-shadow: 0px 1px 2px rgba(60, 64, 67, 0.3), 0px 1px 3px 1px rgba(60, 64, 67, 0.15);\n",
              "        fill: #174EA6;\n",
              "      }\n",
              "\n",
              "      [theme=dark] .colab-df-generate {\n",
              "        background-color: #3B4455;\n",
              "        fill: #D2E3FC;\n",
              "      }\n",
              "\n",
              "      [theme=dark] .colab-df-generate:hover {\n",
              "        background-color: #434B5C;\n",
              "        box-shadow: 0px 1px 3px 1px rgba(0, 0, 0, 0.15);\n",
              "        filter: drop-shadow(0px 1px 2px rgba(0, 0, 0, 0.3));\n",
              "        fill: #FFFFFF;\n",
              "      }\n",
              "    </style>\n",
              "    <button class=\"colab-df-generate\" onclick=\"generateWithVariable('df')\"\n",
              "            title=\"Generate code using this dataframe.\"\n",
              "            style=\"display:none;\">\n",
              "\n",
              "  <svg xmlns=\"http://www.w3.org/2000/svg\" height=\"24px\"viewBox=\"0 0 24 24\"\n",
              "       width=\"24px\">\n",
              "    <path d=\"M7,19H8.4L18.45,9,17,7.55,7,17.6ZM5,21V16.75L18.45,3.32a2,2,0,0,1,2.83,0l1.4,1.43a1.91,1.91,0,0,1,.58,1.4,1.91,1.91,0,0,1-.58,1.4L9.25,21ZM18.45,9,17,7.55Zm-12,3A5.31,5.31,0,0,0,4.9,8.1,5.31,5.31,0,0,0,1,6.5,5.31,5.31,0,0,0,4.9,4.9,5.31,5.31,0,0,0,6.5,1,5.31,5.31,0,0,0,8.1,4.9,5.31,5.31,0,0,0,12,6.5,5.46,5.46,0,0,0,6.5,12Z\"/>\n",
              "  </svg>\n",
              "    </button>\n",
              "    <script>\n",
              "      (() => {\n",
              "      const buttonEl =\n",
              "        document.querySelector('#id_a1c0d757-cca1-4eef-bce6-39b16ae23130 button.colab-df-generate');\n",
              "      buttonEl.style.display =\n",
              "        google.colab.kernel.accessAllowed ? 'block' : 'none';\n",
              "\n",
              "      buttonEl.onclick = () => {\n",
              "        google.colab.notebook.generateWithVariable('df');\n",
              "      }\n",
              "      })();\n",
              "    </script>\n",
              "  </div>\n",
              "\n",
              "    </div>\n",
              "  </div>\n"
            ],
            "application/vnd.google.colaboratory.intrinsic+json": {
              "type": "dataframe",
              "variable_name": "df",
              "summary": "{\n  \"name\": \"df\",\n  \"rows\": 376,\n  \"fields\": [\n    {\n      \"column\": \"No \",\n      \"properties\": {\n        \"dtype\": \"number\",\n        \"std\": 108,\n        \"min\": 1,\n        \"max\": 376,\n        \"num_unique_values\": 376,\n        \"samples\": [\n          291,\n          358,\n          262\n        ],\n        \"semantic_type\": \"\",\n        \"description\": \"\"\n      }\n    },\n    {\n      \"column\": \"Tahun\",\n      \"properties\": {\n        \"dtype\": \"number\",\n        \"std\": 9,\n        \"min\": 1993,\n        \"max\": 2024,\n        \"num_unique_values\": 32,\n        \"samples\": [\n          2022,\n          2008,\n          2017\n        ],\n        \"semantic_type\": \"\",\n        \"description\": \"\"\n      }\n    },\n    {\n      \"column\": \"Bulan\",\n      \"properties\": {\n        \"dtype\": \"category\",\n        \"num_unique_values\": 12,\n        \"samples\": [\n          \"November\",\n          \"Oktober\",\n          \"Januari\"\n        ],\n        \"semantic_type\": \"\",\n        \"description\": \"\"\n      }\n    },\n    {\n      \"column\": \"Nilai Impor migas (Juta US$)\",\n      \"properties\": {\n        \"dtype\": \"number\",\n        \"std\": 1204.584304983547,\n        \"min\": 108.2,\n        \"max\": 4455.3,\n        \"num_unique_values\": 376,\n        \"samples\": [\n          2277.0,\n          3364.1,\n          3577.6\n        ],\n        \"semantic_type\": \"\",\n        \"description\": \"\"\n      }\n    }\n  ]\n}"
            }
          },
          "metadata": {},
          "execution_count": 69
        }
      ]
    },
    {
      "cell_type": "code",
      "source": [
        "print(df.head())"
      ],
      "metadata": {
        "colab": {
          "base_uri": "https://localhost:8080/"
        },
        "id": "momlJZwNP_pD",
        "outputId": "298fbd17-7195-48c3-d9bb-2cb4a0f14aaa"
      },
      "execution_count": 70,
      "outputs": [
        {
          "output_type": "stream",
          "name": "stdout",
          "text": [
            "   No   Tahun     Bulan  Nilai Impor migas (Juta US$)\n",
            "0    1   1993   Januari                         132.2\n",
            "1    2   1993  Februari                         154.4\n",
            "2    3   1993     Maret                         112.1\n",
            "3    4   1993    April                          142.8\n",
            "4    5   1993       Mei                         153.8\n"
          ]
        }
      ]
    },
    {
      "cell_type": "code",
      "source": [
        "df.info()"
      ],
      "metadata": {
        "colab": {
          "base_uri": "https://localhost:8080/"
        },
        "id": "C2sc0MjxQzkX",
        "outputId": "b9a15cc4-1c6d-4d86-908d-d505e58d7b3c"
      },
      "execution_count": 71,
      "outputs": [
        {
          "output_type": "stream",
          "name": "stdout",
          "text": [
            "<class 'pandas.core.frame.DataFrame'>\n",
            "RangeIndex: 376 entries, 0 to 375\n",
            "Data columns (total 4 columns):\n",
            " #   Column                        Non-Null Count  Dtype  \n",
            "---  ------                        --------------  -----  \n",
            " 0   No                            376 non-null    int64  \n",
            " 1   Tahun                         376 non-null    int64  \n",
            " 2   Bulan                         376 non-null    object \n",
            " 3   Nilai Impor migas (Juta US$)  376 non-null    float64\n",
            "dtypes: float64(1), int64(2), object(1)\n",
            "memory usage: 11.9+ KB\n"
          ]
        }
      ]
    },
    {
      "cell_type": "code",
      "source": [
        "if 'No' in df.columns:\n",
        "    df.drop(columns=['No'], inplace=True)"
      ],
      "metadata": {
        "id": "oIkFmzljSPSB"
      },
      "execution_count": 72,
      "outputs": []
    },
    {
      "cell_type": "code",
      "source": [
        "df.isna().sum()"
      ],
      "metadata": {
        "colab": {
          "base_uri": "https://localhost:8080/"
        },
        "id": "YB6TE4-GSSaM",
        "outputId": "3902dd2a-c600-4f7d-9262-3af2a5842cd0"
      },
      "execution_count": 73,
      "outputs": [
        {
          "output_type": "execute_result",
          "data": {
            "text/plain": [
              "No                              0\n",
              "Tahun                           0\n",
              "Bulan                           0\n",
              "Nilai Impor migas (Juta US$)    0\n",
              "dtype: int64"
            ]
          },
          "metadata": {},
          "execution_count": 73
        }
      ]
    },
    {
      "cell_type": "code",
      "source": [
        "bulan_indonesia = ['Januari', 'Februari', 'Maret', 'April', 'Mei', 'Juni', 'Juli', 'Agustus', 'September', 'Oktober', 'November', 'Desember']"
      ],
      "metadata": {
        "id": "CoY5R4RjanLN"
      },
      "execution_count": 74,
      "outputs": []
    },
    {
      "cell_type": "code",
      "source": [
        "df['Bulan'] = df['Bulan'].str.strip()"
      ],
      "metadata": {
        "id": "qrqMOEeASZ3c"
      },
      "execution_count": 75,
      "outputs": []
    },
    {
      "cell_type": "code",
      "source": [
        "df['Tanggal'] = df.apply(lambda row: datetime(row['Tahun'],\n",
        "                                              bulan_indonesia.index(row['Bulan']) + 1,\n",
        "                                              1), axis=1)\n",
        "df.set_index('Tanggal', inplace=True)"
      ],
      "metadata": {
        "id": "dOwTLI2Ta4Ng"
      },
      "execution_count": 76,
      "outputs": []
    },
    {
      "cell_type": "code",
      "source": [
        "train_size = int(len(df) * 0.8)\n",
        "train_data = df.iloc[:train_size]['Nilai Impor migas (Juta US$)']\n",
        "test_data = df.iloc[train_size:]['Nilai Impor migas (Juta US$)']"
      ],
      "metadata": {
        "id": "oO9iJX6aT2ue"
      },
      "execution_count": 77,
      "outputs": []
    },
    {
      "cell_type": "code",
      "source": [
        "def fuzzy_time_series(data, order):\n",
        "    fuzzy_series = []\n",
        "    data_length = len(data)\n",
        "    for i in range(data_length - order):\n",
        "        pattern = tuple(data[i:i+order])\n",
        "        next_value = data[i+order]\n",
        "        fuzzy_series.append((pattern, next_value))\n",
        "    return fuzzy_series"
      ],
      "metadata": {
        "id": "Pv7nTVDGT6i9"
      },
      "execution_count": 78,
      "outputs": []
    },
    {
      "cell_type": "code",
      "source": [
        "order = 3\n",
        "fuzzy_series = fuzzy_time_series(train_data.values, order)"
      ],
      "metadata": {
        "id": "R2xeRS1AbBr7"
      },
      "execution_count": 79,
      "outputs": []
    },
    {
      "cell_type": "code",
      "source": [
        "def build_transition_matrix(fuzzy_series, order):\n",
        "    patterns = {}\n",
        "    for pattern, next_value in fuzzy_series:\n",
        "        if pattern not in patterns:\n",
        "            patterns[pattern] = []\n",
        "        patterns[pattern].append(next_value)\n",
        "\n",
        "    transition_matrix = {}\n",
        "    for pattern, next_values in patterns.items():\n",
        "        next_values_counts = {v: next_values.count(v) for v in set(next_values)}\n",
        "        total_counts = sum(next_values_counts.values())\n",
        "        transition_matrix[pattern] = {v: count/total_counts for v, count in next_values_counts.items()}\n",
        "\n",
        "    return transition_matrix"
      ],
      "metadata": {
        "id": "eTxbL-N_bLA9"
      },
      "execution_count": 80,
      "outputs": []
    },
    {
      "cell_type": "code",
      "source": [
        "transition_matrix = build_transition_matrix(fuzzy_series, order)"
      ],
      "metadata": {
        "id": "Ze0oJoi4bf8Y"
      },
      "execution_count": 81,
      "outputs": []
    },
    {
      "cell_type": "code",
      "source": [
        "def build_transition_matrix(fuzzy_series, order):\n",
        "    patterns = {}\n",
        "    for pattern, next_value in fuzzy_series:\n",
        "        if pattern not in patterns:\n",
        "            patterns[pattern] = []\n",
        "        patterns[pattern].append(next_value)\n",
        "\n",
        "    transition_matrix = {}\n",
        "    for pattern, next_values in patterns.items():\n",
        "        next_values_counts = {v: next_values.count(v) for v in set(next_values)}\n",
        "        total_counts = sum(next_values_counts.values())\n",
        "        transition_matrix[pattern] = {v: count/total_counts for v, count in next_values_counts.items()}\n",
        "\n",
        "    return transition_matrix"
      ],
      "metadata": {
        "id": "DgHUq7eDbiHn"
      },
      "execution_count": 82,
      "outputs": []
    },
    {
      "cell_type": "code",
      "source": [
        "transition_matrix = build_transition_matrix(fuzzy_series, order)"
      ],
      "metadata": {
        "id": "bpy5EWlyd77q"
      },
      "execution_count": 83,
      "outputs": []
    },
    {
      "cell_type": "code",
      "source": [
        "def forecast(data, transition_matrix, order, steps):\n",
        "    forecasts = []\n",
        "    current_pattern = tuple(data[-order:])\n",
        "    for _ in range(steps):\n",
        "        if current_pattern in transition_matrix:\n",
        "            next_value = max(transition_matrix[current_pattern], key=transition_matrix[current_pattern].get)\n",
        "        else:\n",
        "            next_value = np.mean(data)  # Default to mean if pattern not found\n",
        "        forecasts.append(next_value)\n",
        "        current_pattern = tuple(list(current_pattern[1:]) + [next_value])\n",
        "    return forecasts\n"
      ],
      "metadata": {
        "id": "kzljjlD0bkbu"
      },
      "execution_count": 84,
      "outputs": []
    },
    {
      "cell_type": "code",
      "source": [
        "steps = len(test_data)  # Peramalan untuk panjang data uji\n",
        "forecasts = forecast(train_data.values, transition_matrix, order, steps)"
      ],
      "metadata": {
        "id": "sOK_swrMbmuY"
      },
      "execution_count": 85,
      "outputs": []
    },
    {
      "cell_type": "code",
      "source": [
        "def create_flr_table(fuzzy_series):\n",
        "    flr_table = []\n",
        "    for (pattern, next_value) in fuzzy_series:\n",
        "        flr_table.append({\n",
        "            'Periode': len(flr_table) + 1,\n",
        "            'Nilai Impor (US dollar)': pattern,\n",
        "            'FLR': next_value\n",
        "        })\n",
        "    return pd.DataFrame(flr_table)\n",
        "\n",
        "flr_table = create_flr_table(fuzzy_series)"
      ],
      "metadata": {
        "id": "Xm3d-HVTboj6"
      },
      "execution_count": 86,
      "outputs": []
    },
    {
      "cell_type": "code",
      "source": [
        "def create_linguistic_table(data, forecasts):\n",
        "    linguistic_table = []\n",
        "    for i in range(len(data)):\n",
        "        linguistic_table.append({\n",
        "            'Periode': i + 1,\n",
        "            'Nilai Impor (US dollar)': data[i],\n",
        "            'Fuzzifikasi': 'A' if i < len(forecasts) else 'B',  # Contoh sederhana\n",
        "            'Hasil': forecasts[i] if i < len(forecasts) else np.nan\n",
        "        })\n",
        "    return pd.DataFrame(linguistic_table)"
      ],
      "metadata": {
        "id": "tb2q4HG8eI_I"
      },
      "execution_count": 87,
      "outputs": []
    },
    {
      "cell_type": "code",
      "source": [
        "linguistic_table = create_linguistic_table(train_data.values, forecasts)"
      ],
      "metadata": {
        "id": "SnVhIO1leKkJ"
      },
      "execution_count": 88,
      "outputs": []
    },
    {
      "cell_type": "code",
      "source": [
        "def create_error_table(test_data, forecasts):\n",
        "    error_table = []\n",
        "    for i in range(len(test_data)):\n",
        "        actual = test_data[i]\n",
        "        forecast = forecasts[i]\n",
        "        ape = abs((actual - forecast) / actual) * 100\n",
        "        error_table.append({\n",
        "            'Periode': len(train_data) + i + 1,\n",
        "            'Nilai Impor (US dollar)': actual,\n",
        "            'Fuzzifikasi': forecast,\n",
        "            'APE': ape\n",
        "        })\n",
        "    mape = np.mean([row['APE'] for row in error_table])\n",
        "    error_table.append({\n",
        "        'Periode': 'MAPE',\n",
        "        'Nilai Impor (US dollar)': '',\n",
        "        'Fuzzifikasi': '',\n",
        "        'APE': mape\n",
        "    })\n",
        "    return pd.DataFrame(error_table)"
      ],
      "metadata": {
        "id": "e5ah1BaNeOQb"
      },
      "execution_count": 89,
      "outputs": []
    },
    {
      "cell_type": "code",
      "source": [
        "error_table = create_error_table(test_data.values, forecasts)"
      ],
      "metadata": {
        "id": "ktJcqDcReQBZ"
      },
      "execution_count": 90,
      "outputs": []
    },
    {
      "cell_type": "code",
      "source": [
        "def create_pso_results_table(iterations, particles, w, c1, c2, mape):\n",
        "    pso_results = []\n",
        "    for i in range(iterations):\n",
        "        pso_results.append({\n",
        "            'No.': i + 1,\n",
        "            'Iterasi': i + 1,\n",
        "            'Jumlah Partikel': particles,\n",
        "            'W (Bobot inersia)': w,\n",
        "            'Nilai C1': c1,\n",
        "            'Nilai C2': c2,\n",
        "            'MAPE': mape\n",
        "        })\n",
        "    return pd.DataFrame(pso_results)"
      ],
      "metadata": {
        "id": "5AN_YiSaeReb"
      },
      "execution_count": 91,
      "outputs": []
    },
    {
      "cell_type": "code",
      "source": [
        "iterations = 10  # Contoh jumlah iterasi\n",
        "particles = 30  # Contoh jumlah partikel\n",
        "w = 0.5  # Contoh nilai bobot inersia\n",
        "c1 = 1.5  # Contoh nilai C1\n",
        "c2 = 1.5  # Contoh nilai C2\n",
        "mape = error_table['APE'].iloc[:-1].mean()  # Menggunakan MAPE dari tabel error sebelumnya\n",
        "\n",
        "pso_results_table = create_pso_results_table(iterations, particles, w, c1, c2, mape)\n"
      ],
      "metadata": {
        "id": "U5agx6iEeS7S"
      },
      "execution_count": 92,
      "outputs": []
    },
    {
      "cell_type": "code",
      "source": [
        "print(\"Tabel III-2: Tabel Fuzzy Logic Relationship (FLR)\")\n",
        "print(flr_table)\n",
        "print(\"\\nTabel III-3: Pemetaan Nilai Linguistik\")\n",
        "print(linguistic_table)\n",
        "print(\"\\nTabel III-4: Error Calculation\")\n",
        "print(error_table)\n",
        "print(\"\\nTabel III-5: Hasil Pengujian FTS Markov Chain dengan PSO\")\n",
        "print(pso_results_table)"
      ],
      "metadata": {
        "colab": {
          "base_uri": "https://localhost:8080/"
        },
        "id": "jTBYEwb0eV6A",
        "outputId": "5f84bb20-d73d-40c6-b4fd-d3fc82907f55"
      },
      "execution_count": 93,
      "outputs": [
        {
          "output_type": "stream",
          "name": "stdout",
          "text": [
            "Tabel III-2: Tabel Fuzzy Logic Relationship (FLR)\n",
            "     Periode   Nilai Impor (US dollar)     FLR\n",
            "0          1     (132.2, 154.4, 112.1)   142.8\n",
            "1          2     (154.4, 112.1, 142.8)   153.8\n",
            "2          3     (112.1, 142.8, 153.8)   232.5\n",
            "3          4     (142.8, 153.8, 232.5)   108.2\n",
            "4          5     (153.8, 232.5, 108.2)   252.1\n",
            "..       ...                       ...     ...\n",
            "292      293  (1791.6, 1600.6, 1778.7)  2011.2\n",
            "293      294  (1600.6, 1778.7, 2011.2)  1934.6\n",
            "294      295  (1778.7, 2011.2, 1934.6)  2206.9\n",
            "295      296  (2011.2, 1934.6, 2206.9)  2204.4\n",
            "296      297  (1934.6, 2206.9, 2204.4)  2563.2\n",
            "\n",
            "[297 rows x 3 columns]\n",
            "\n",
            "Tabel III-3: Pemetaan Nilai Linguistik\n",
            "     Periode  Nilai Impor (US dollar) Fuzzifikasi        Hasil\n",
            "0          1                    132.2           A  1445.392667\n",
            "1          2                    154.4           A  1445.392667\n",
            "2          3                    112.1           A  1445.392667\n",
            "3          4                    142.8           A  1445.392667\n",
            "4          5                    153.8           A  1445.392667\n",
            "..       ...                      ...         ...          ...\n",
            "295      296                   2011.2           B          NaN\n",
            "296      297                   1934.6           B          NaN\n",
            "297      298                   2206.9           B          NaN\n",
            "298      299                   2204.4           B          NaN\n",
            "299      300                   2563.2           B          NaN\n",
            "\n",
            "[300 rows x 4 columns]\n",
            "\n",
            "Tabel III-4: Error Calculation\n",
            "   Periode Nilai Impor (US dollar)  Fuzzifikasi        APE\n",
            "0      301                  2259.2  1445.392667  36.021925\n",
            "1      302                  2234.8  1445.392667  35.323400\n",
            "2      303                  2239.1  1445.392667  35.447605\n",
            "3      304                  2328.2  1445.392667  37.918020\n",
            "4      305                  2861.4  1445.392667  49.486522\n",
            "..     ...                     ...          ...        ...\n",
            "72     373                  2698.3  1445.392667  46.433211\n",
            "73     374                  2979.6  1445.392667  51.490379\n",
            "74     375                  3326.5  1445.392667  56.549146\n",
            "75     376                  2960.3  1445.392667  51.174115\n",
            "76    MAPE                                       40.975572\n",
            "\n",
            "[77 rows x 4 columns]\n",
            "\n",
            "Tabel III-5: Hasil Pengujian FTS Markov Chain dengan PSO\n",
            "   No.  Iterasi  Jumlah Partikel  W (Bobot inersia)  Nilai C1  Nilai C2  \\\n",
            "0    1        1               30                0.5       1.5       1.5   \n",
            "1    2        2               30                0.5       1.5       1.5   \n",
            "2    3        3               30                0.5       1.5       1.5   \n",
            "3    4        4               30                0.5       1.5       1.5   \n",
            "4    5        5               30                0.5       1.5       1.5   \n",
            "5    6        6               30                0.5       1.5       1.5   \n",
            "6    7        7               30                0.5       1.5       1.5   \n",
            "7    8        8               30                0.5       1.5       1.5   \n",
            "8    9        9               30                0.5       1.5       1.5   \n",
            "9   10       10               30                0.5       1.5       1.5   \n",
            "\n",
            "        MAPE  \n",
            "0  40.975572  \n",
            "1  40.975572  \n",
            "2  40.975572  \n",
            "3  40.975572  \n",
            "4  40.975572  \n",
            "5  40.975572  \n",
            "6  40.975572  \n",
            "7  40.975572  \n",
            "8  40.975572  \n",
            "9  40.975572  \n"
          ]
        }
      ]
    },
    {
      "cell_type": "code",
      "source": [
        "plt.figure(figsize=(14, 7))\n",
        "plt.plot(train_data.index, train_data.values, label='Training Data')\n",
        "plt.plot(test_data.index, test_data.values, label='Actual Data')\n",
        "plt.plot(test_data.index, forecasts, label='Forecasted Data')\n",
        "plt.title('Forecasting Petroleum Imports using Fuzzy Time Series')\n",
        "plt.xlabel('Year')\n",
        "plt.ylabel('Import Value (Million US$)')\n",
        "plt.legend()\n",
        "plt.grid(True)\n",
        "plt.show()"
      ],
      "metadata": {
        "colab": {
          "base_uri": "https://localhost:8080/",
          "height": 641
        },
        "id": "8iTPffeGeXJ5",
        "outputId": "abb81188-933d-47da-e7a9-7e33a06dcdf1"
      },
      "execution_count": 94,
      "outputs": [
        {
          "output_type": "display_data",
          "data": {
            "text/plain": [
              "<Figure size 1400x700 with 1 Axes>"
            ],
            "image/png": "[encoded data removed]"
          },
          "metadata": {}
        }
      ]
    }
  ]
}